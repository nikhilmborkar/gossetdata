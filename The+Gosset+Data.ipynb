{
 "cells": [
  {
   "cell_type": "code",
   "execution_count": 1,
   "metadata": {
    "collapsed": true
   },
   "outputs": [],
   "source": [
    "help (sleep)"
   ]
  },
  {
   "cell_type": "code",
   "execution_count": 2,
   "metadata": {},
   "outputs": [
    {
     "data": {
      "image/png": "[encoded data removed]",
      "text/plain": [
       "Plot with title “Extra sleep in Gosset data by group”"
      ]
     },
     "metadata": {},
     "output_type": "display_data"
    }
   ],
   "source": [
    "plot(extra~group, data=sleep, main = 'Extra sleep in Gosset data by group') #Plot extra sleep on group\n",
    "attach (sleep)\n",
    "extra.1= extra[group==1] #Extra Sleep in Group 1\n",
    "extra.2= extra[group==2] #Extra Sleep in Group 2"
   ]
  },
  {
   "cell_type": "code",
   "execution_count": 4,
   "metadata": {},
   "outputs": [
    {
     "data": {
      "text/plain": [
       "\n",
       "\tPaired t-test\n",
       "\n",
       "data:  extra.1 and extra.2\n",
       "t = -4.0621, df = 9, p-value = 0.002833\n",
       "alternative hypothesis: true difference in means is not equal to 0\n",
       "95 percent confidence interval:\n",
       " -2.4598858 -0.7001142\n",
       "sample estimates:\n",
       "mean of the differences \n",
       "                  -1.58 \n"
      ]
     },
     "metadata": {},
     "output_type": "display_data"
    }
   ],
   "source": [
    "#Testing our hypothesis that Drug 2 is better than Drug 1\n",
    "\n",
    "t.test(extra.1, extra.2, paired = TRUE, alternative=\"two.sided\") \n",
    "\n",
    "#We are treating this data as paired as there are only 10 people in the study and two different drugs\n",
    "#We are doing a two sided test rather than one sided test because coming in, we didn't have any intution \n",
    "#about one drug being better than the other"
   ]
  },
  {
   "cell_type": "code",
   "execution_count": 5,
   "metadata": {
    "collapsed": true
   },
   "outputs": [],
   "source": [
    "# The degrees of freedom is n-1 = 9 (10 people in the dataset)\n",
    "# the value of t distribution depends on the sample size. \n",
    "# P value is less than 0.05 and is considered to be significant\n",
    "#Another approach to a test like this would be to calculate the confidence interval and see if it includes Zero as a\n",
    "#plausible value.\n",
    "#This example does not, as the confidence interval lies between -2.459 and -07000"
   ]
  },
  {
   "cell_type": "code",
   "execution_count": null,
   "metadata": {
    "collapsed": true
   },
   "outputs": [],
   "source": [
    "#The hypothesis \n",
    "#H0 = Mean response is same for both drugs i.e udrug1- udrug2 = udiff = 0\n",
    "#H1 = Mean response is different for both drugs i.e udrug1- udrug2= udiff =/= 0 \n",
    "\n",
    "#In this case we reject the null hypothesis as the p value is less than 0.05 "
   ]
  }
 ],
 "metadata": {
  "kernelspec": {
   "display_name": "R",
   "language": "R",
   "name": "ir"
  },
  "language_info": {
   "codemirror_mode": "r",
   "file_extension": ".r",
   "mimetype": "text/x-r-source",
   "name": "R",
   "pygments_lexer": "r",
   "version": "3.4.1"
  }
 },
 "nbformat": 4,
 "nbformat_minor": 2
}
